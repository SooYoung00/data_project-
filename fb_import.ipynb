{
 "cells": [
  {
   "cell_type": "code",
   "execution_count": 5,
   "metadata": {},
   "outputs": [],
   "source": [
    "import pandas as pd\n",
    "import matplotlib.pyplot as plt\n",
    "import matplotlib as mpl\n",
    "import json\n",
    "import os\n",
    "import datetime\n",
    "\n",
    "plt.rcParams['figure.figsize'] = (10, 5)"
   ]
  },
  {
   "cell_type": "code",
   "execution_count": 4,
   "metadata": {},
   "outputs": [
    {
     "output_type": "error",
     "ename": "SyntaxError",
     "evalue": "invalid syntax (<ipython-input-4-eb4b1dd13486>, line 2)",
     "traceback": [
      "\u001b[0;36m  File \u001b[0;32m\"<ipython-input-4-eb4b1dd13486>\"\u001b[0;36m, line \u001b[0;32m2\u001b[0m\n\u001b[0;31m    plot = sns.import(\u001b[0m\n\u001b[0m               ^\u001b[0m\n\u001b[0;31mSyntaxError\u001b[0m\u001b[0;31m:\u001b[0m invalid syntax\n"
     ]
    }
   ],
   "source": [
    " import seaborn as sns \n",
    "plot = sns.import(\n",
    "     x=\"date\", \n",
    "    y=\"seconds\", \n",
    "    data=all_convo-df,\n",
    "    hue='send_name',\n",
    "    fit_reg=False,\n",
    "    legend=True, \n",
    "    palette=\"Set1\",\n",
    "    col=\"sender_name\",\n",
    "    col_wrap=4\n",
    "    )"
   ]
  },
  {
   "cell_type": "markdown",
   "metadata": {},
   "source": [
    "# Loading a single person's conversation\r\n",
    "\r\n",
    "This hard codes the conversation, you can get the link by right clicking on the file you want and then chosing _Copy Relative Path_ and then pasting it in below."
   ]
  },
  {
   "cell_type": "code",
   "execution_count": 1,
   "metadata": {},
   "outputs": [
    {
     "output_type": "error",
     "ename": "NameError",
     "evalue": "name 'json' is not defined",
     "traceback": [
      "\u001b[0;31m---------------------------------------------------------------------------\u001b[0m",
      "\u001b[0;31mNameError\u001b[0m                                 Traceback (most recent call last)",
      "\u001b[0;32m<ipython-input-1-f4803da03ebd>\u001b[0m in \u001b[0;36m<module>\u001b[0;34m\u001b[0m\n\u001b[1;32m      1\u001b[0m \u001b[0mrelative_path\u001b[0m \u001b[0;34m=\u001b[0m \u001b[0;34m\"fb_data/messages/inbox/megansu_zepkvzqqpg/message_1.json\"\u001b[0m\u001b[0;34m\u001b[0m\u001b[0;34m\u001b[0m\u001b[0m\n\u001b[1;32m      2\u001b[0m \u001b[0;32mwith\u001b[0m \u001b[0mopen\u001b[0m\u001b[0;34m(\u001b[0m\u001b[0mrelative_path\u001b[0m\u001b[0;34m)\u001b[0m \u001b[0;32mas\u001b[0m \u001b[0mfb_data\u001b[0m\u001b[0;34m:\u001b[0m\u001b[0;34m\u001b[0m\u001b[0;34m\u001b[0m\u001b[0m\n\u001b[0;32m----> 3\u001b[0;31m     \u001b[0mmessages\u001b[0m \u001b[0;34m=\u001b[0m \u001b[0mjson\u001b[0m\u001b[0;34m.\u001b[0m\u001b[0mload\u001b[0m\u001b[0;34m(\u001b[0m\u001b[0mfb_data\u001b[0m\u001b[0;34m)\u001b[0m\u001b[0;34m\u001b[0m\u001b[0;34m\u001b[0m\u001b[0m\n\u001b[0m",
      "\u001b[0;31mNameError\u001b[0m: name 'json' is not defined"
     ]
    }
   ],
   "source": [
    "relative_path = \"fb_data/messages/inbox/megansu_zepkvzqqpg/message_2.json\"\n",
    "with open(relative_path) as fb_data:\n",
    "    messages = json.load(fb_data)"
   ]
  },
  {
   "cell_type": "code",
   "execution_count": 9,
   "metadata": {},
   "outputs": [
    {
     "output_type": "stream",
     "name": "stdout",
     "text": [
      "conversation between Megan Su and ì¥ìì\n"
     ]
    }
   ],
   "source": [
    "participants = messages[\"participants\"]\n",
    "print(f\"conversation between {participants[0]['name']} and {participants[1]['name']}\")"
   ]
  },
  {
   "cell_type": "code",
   "execution_count": 10,
   "metadata": {},
   "outputs": [
    {
     "output_type": "stream",
     "name": "stdout",
     "text": [
      "in this period there were 10000 messages.\n"
     ]
    }
   ],
   "source": [
    "message_list = messages['messages']\n",
    "print(f\"in this period there were {len(message_list)} messages.\")"
   ]
  },
  {
   "cell_type": "code",
   "execution_count": 11,
   "metadata": {},
   "outputs": [
    {
     "output_type": "stream",
     "name": "stdout",
     "text": [
      "7 messages were unsent\n"
     ]
    }
   ],
   "source": [
    "unsent = [m for m in message_list if m[\"is_unsent\"]]\n",
    "print(f\"{len(unsent)} messages were unsent\")"
   ]
  },
  {
   "cell_type": "code",
   "execution_count": 12,
   "metadata": {},
   "outputs": [
    {
     "output_type": "execute_result",
     "data": {
      "text/plain": [
       "     sender_name   timestamp_ms  \\\n",
       "9995    Megan Su  1554261083074   \n",
       "9996   ì¥ìì  1554259575840   \n",
       "9997   ì¥ìì  1554259556602   \n",
       "9998    Megan Su  1554197707217   \n",
       "9999    Megan Su  1554195050194   \n",
       "\n",
       "                                                content     type  is_unsent  \\\n",
       "9995                                               soon  Generic      False   \n",
       "9996                           What time u coming home?  Generic      False   \n",
       "9997                                                Hey  Generic      False   \n",
       "9998  https://www.khanacademy.org/science/ap-biology...  Generic      False   \n",
       "9999  https://www.khanacademy.org/science/biology/me...  Generic      False   \n",
       "\n",
       "     photos reactions sticker videos share  call_duration missed  \\\n",
       "9995    NaN       NaN     NaN    NaN   NaN            NaN    NaN   \n",
       "9996    NaN       NaN     NaN    NaN   NaN            NaN    NaN   \n",
       "9997    NaN       NaN     NaN    NaN   NaN            NaN    NaN   \n",
       "9998    NaN       NaN     NaN    NaN   NaN            NaN    NaN   \n",
       "9999    NaN       NaN     NaN    NaN   NaN            NaN    NaN   \n",
       "\n",
       "                    datetime  \n",
       "9995 2019-04-03 14:11:23.074  \n",
       "9996 2019-04-03 13:46:15.840  \n",
       "9997 2019-04-03 13:45:56.602  \n",
       "9998 2019-04-02 20:35:07.217  \n",
       "9999 2019-04-02 19:50:50.194  "
      ],
      "text/html": "<div>\n<style scoped>\n    .dataframe tbody tr th:only-of-type {\n        vertical-align: middle;\n    }\n\n    .dataframe tbody tr th {\n        vertical-align: top;\n    }\n\n    .dataframe thead th {\n        text-align: right;\n    }\n</style>\n<table border=\"1\" class=\"dataframe\">\n  <thead>\n    <tr style=\"text-align: right;\">\n      <th></th>\n      <th>sender_name</th>\n      <th>timestamp_ms</th>\n      <th>content</th>\n      <th>type</th>\n      <th>is_unsent</th>\n      <th>photos</th>\n      <th>reactions</th>\n      <th>sticker</th>\n      <th>videos</th>\n      <th>share</th>\n      <th>call_duration</th>\n      <th>missed</th>\n      <th>datetime</th>\n    </tr>\n  </thead>\n  <tbody>\n    <tr>\n      <th>9995</th>\n      <td>Megan Su</td>\n      <td>1554261083074</td>\n      <td>soon</td>\n      <td>Generic</td>\n      <td>False</td>\n      <td>NaN</td>\n      <td>NaN</td>\n      <td>NaN</td>\n      <td>NaN</td>\n      <td>NaN</td>\n      <td>NaN</td>\n      <td>NaN</td>\n      <td>2019-04-03 14:11:23.074</td>\n    </tr>\n    <tr>\n      <th>9996</th>\n      <td>ì¥ìì</td>\n      <td>1554259575840</td>\n      <td>What time u coming home?</td>\n      <td>Generic</td>\n      <td>False</td>\n      <td>NaN</td>\n      <td>NaN</td>\n      <td>NaN</td>\n      <td>NaN</td>\n      <td>NaN</td>\n      <td>NaN</td>\n      <td>NaN</td>\n      <td>2019-04-03 13:46:15.840</td>\n    </tr>\n    <tr>\n      <th>9997</th>\n      <td>ì¥ìì</td>\n      <td>1554259556602</td>\n      <td>Hey</td>\n      <td>Generic</td>\n      <td>False</td>\n      <td>NaN</td>\n      <td>NaN</td>\n      <td>NaN</td>\n      <td>NaN</td>\n      <td>NaN</td>\n      <td>NaN</td>\n      <td>NaN</td>\n      <td>2019-04-03 13:45:56.602</td>\n    </tr>\n    <tr>\n      <th>9998</th>\n      <td>Megan Su</td>\n      <td>1554197707217</td>\n      <td>https://www.khanacademy.org/science/ap-biology...</td>\n      <td>Generic</td>\n      <td>False</td>\n      <td>NaN</td>\n      <td>NaN</td>\n      <td>NaN</td>\n      <td>NaN</td>\n      <td>NaN</td>\n      <td>NaN</td>\n      <td>NaN</td>\n      <td>2019-04-02 20:35:07.217</td>\n    </tr>\n    <tr>\n      <th>9999</th>\n      <td>Megan Su</td>\n      <td>1554195050194</td>\n      <td>https://www.khanacademy.org/science/biology/me...</td>\n      <td>Generic</td>\n      <td>False</td>\n      <td>NaN</td>\n      <td>NaN</td>\n      <td>NaN</td>\n      <td>NaN</td>\n      <td>NaN</td>\n      <td>NaN</td>\n      <td>NaN</td>\n      <td>2019-04-02 19:50:50.194</td>\n    </tr>\n  </tbody>\n</table>\n</div>"
     },
     "metadata": {},
     "execution_count": 12
    }
   ],
   "source": [
    "df = pd.DataFrame(message_list)\n",
    "df[\"datetime\"] = df.timestamp_ms.apply(lambda x: datetime.datetime.fromtimestamp(x/1000.0))\n",
    "df.tail()"
   ]
  },
  {
   "cell_type": "code",
   "execution_count": 13,
   "metadata": {},
   "outputs": [
    {
     "output_type": "execute_result",
     "data": {
      "text/plain": [
       "<AxesSubplot:>"
      ]
     },
     "metadata": {},
     "execution_count": 13
    },
    {
     "output_type": "stream",
     "name": "stderr",
     "text": [
      "/Users/sooyoungjang/opt/anaconda3/lib/python3.8/site-packages/matplotlib/textpath.py:74: RuntimeWarning: Glyph 158 missing from current font.\n  font.set_text(s, 0.0, flags=LOAD_NO_HINTING)\n/Users/sooyoungjang/opt/anaconda3/lib/python3.8/site-packages/matplotlib/textpath.py:74: RuntimeWarning: Glyph 136 missing from current font.\n  font.set_text(s, 0.0, flags=LOAD_NO_HINTING)\n/Users/sooyoungjang/opt/anaconda3/lib/python3.8/site-packages/matplotlib/textpath.py:74: RuntimeWarning: Glyph 152 missing from current font.\n  font.set_text(s, 0.0, flags=LOAD_NO_HINTING)\n/Users/sooyoungjang/opt/anaconda3/lib/python3.8/site-packages/matplotlib/textpath.py:74: RuntimeWarning: Glyph 129 missing from current font.\n  font.set_text(s, 0.0, flags=LOAD_NO_HINTING)\n/Users/sooyoungjang/opt/anaconda3/lib/python3.8/site-packages/matplotlib/backends/backend_agg.py:238: RuntimeWarning: Glyph 158 missing from current font.\n  font.set_text(s, 0.0, flags=flags)\n/Users/sooyoungjang/opt/anaconda3/lib/python3.8/site-packages/matplotlib/backends/backend_agg.py:238: RuntimeWarning: Glyph 136 missing from current font.\n  font.set_text(s, 0.0, flags=flags)\n/Users/sooyoungjang/opt/anaconda3/lib/python3.8/site-packages/matplotlib/backends/backend_agg.py:238: RuntimeWarning: Glyph 152 missing from current font.\n  font.set_text(s, 0.0, flags=flags)\n/Users/sooyoungjang/opt/anaconda3/lib/python3.8/site-packages/matplotlib/backends/backend_agg.py:238: RuntimeWarning: Glyph 129 missing from current font.\n  font.set_text(s, 0.0, flags=flags)\n/Users/sooyoungjang/opt/anaconda3/lib/python3.8/site-packages/matplotlib/backends/backend_agg.py:201: RuntimeWarning: Glyph 158 missing from current font.\n  font.set_text(s, 0, flags=flags)\n/Users/sooyoungjang/opt/anaconda3/lib/python3.8/site-packages/matplotlib/backends/backend_agg.py:201: RuntimeWarning: Glyph 136 missing from current font.\n  font.set_text(s, 0, flags=flags)\n/Users/sooyoungjang/opt/anaconda3/lib/python3.8/site-packages/matplotlib/backends/backend_agg.py:201: RuntimeWarning: Glyph 152 missing from current font.\n  font.set_text(s, 0, flags=flags)\n/Users/sooyoungjang/opt/anaconda3/lib/python3.8/site-packages/matplotlib/backends/backend_agg.py:201: RuntimeWarning: Glyph 129 missing from current font.\n  font.set_text(s, 0, flags=flags)\n"
     ]
    },
    {
     "output_type": "display_data",
     "data": {
      "text/plain": "<Figure size 720x360 with 1 Axes>",
      "image/svg+xml": "<?xml version=\"1.0\" encoding=\"utf-8\" standalone=\"no\"?>\n<!DOCTYPE svg PUBLIC \"-//W3C//DTD SVG 1.1//EN\"\n  \"http://www.w3.org/Graphics/SVG/1.1/DTD/svg11.dtd\">\n<!-- Created with matplotlib (https://matplotlib.org/) -->\n<svg height=\"302.878125pt\" version=\"1.1\" viewBox=\"0 0 628.859375 302.878125\" width=\"628.859375pt\" xmlns=\"http://www.w3.org/2000/svg\" xmlns:xlink=\"http://www.w3.org/1999/xlink\">\n <metadata>\n  <rdf:RDF xmlns:cc=\"http://creativecommons.org/ns#\" xmlns:dc=\"http://purl.org/dc/elements/1.1/\" xmlns:rdf=\"http://www.w3.org/1999/02/22-rdf-syntax-ns#\">\n   <cc:Work>\n    <dc:type rdf:resource=\"http://purl.org/dc/dcmitype/StillImage\"/>\n    <dc:date>2021-07-12T17:50:22.670649</dc:date>\n    <dc:format>image/svg+xml</dc:format>\n    <dc:creator>\n     <cc:Agent>\n      <dc:title>Matplotlib v3.3.4, https://matplotlib.org/</dc:title>\n     </cc:Agent>\n    </dc:creator>\n   </cc:Work>\n  </rdf:RDF>\n </metadata>\n <defs>\n  <style type=\"text/css\">*{stroke-linecap:butt;stroke-linejoin:round;}</style>\n </defs>\n <g id=\"figure_1\">\n  <g id=\"patch_1\">\n   <path d=\"M 0 302.878125 \nL 628.859375 302.878125 \nL 628.859375 0 \nL 0 0 \nz\n\" style=\"fill:none;\"/>\n  </g>\n  <g id=\"axes_1\">\n   <g id=\"patch_2\">\n    <path d=\"M 63.659375 279 \nL 621.659375 279 \nL 621.659375 7.2 \nL 63.659375 7.2 \nz\n\" style=\"fill:#ffffff;\"/>\n   </g>\n   <g id=\"patch_3\">\n    <path clip-path=\"url(#p1dd6300494)\" d=\"M 63.659375 245.025 \nL 595.087946 245.025 \nL 595.087946 177.075 \nL 63.659375 177.075 \nz\n\" style=\"fill:#1f77b4;\"/>\n   </g>\n   <g id=\"patch_4\">\n    <path clip-path=\"url(#p1dd6300494)\" d=\"M 63.659375 109.125 \nL 489.242458 109.125 \nL 489.242458 41.175 \nL 63.659375 41.175 \nz\n\" style=\"fill:#1f77b4;\"/>\n   </g>\n   <g id=\"matplotlib.axis_1\">\n    <g id=\"xtick_1\">\n     <g id=\"line2d_1\">\n      <defs>\n       <path d=\"M 0 0 \nL 0 3.5 \n\" id=\"m2806463ac6\" style=\"stroke:#000000;stroke-width:0.8;\"/>\n      </defs>\n      <g>\n       <use style=\"stroke:#000000;stroke-width:0.8;\" x=\"63.659375\" xlink:href=\"#m2806463ac6\" y=\"279\"/>\n      </g>\n     </g>\n     <g id=\"text_1\">\n      <!-- 0 -->\n      <g transform=\"translate(60.478125 293.598437)scale(0.1 -0.1)\">\n       <defs>\n        <path d=\"M 31.78125 66.40625 \nQ 24.171875 66.40625 20.328125 58.90625 \nQ 16.5 51.421875 16.5 36.375 \nQ 16.5 21.390625 20.328125 13.890625 \nQ 24.171875 6.390625 31.78125 6.390625 \nQ 39.453125 6.390625 43.28125 13.890625 \nQ 47.125 21.390625 47.125 36.375 \nQ 47.125 51.421875 43.28125 58.90625 \nQ 39.453125 66.40625 31.78125 66.40625 \nz\nM 31.78125 74.21875 \nQ 44.046875 74.21875 50.515625 64.515625 \nQ 56.984375 54.828125 56.984375 36.375 \nQ 56.984375 17.96875 50.515625 8.265625 \nQ 44.046875 -1.421875 31.78125 -1.421875 \nQ 19.53125 -1.421875 13.0625 8.265625 \nQ 6.59375 17.96875 6.59375 36.375 \nQ 6.59375 54.828125 13.0625 64.515625 \nQ 19.53125 74.21875 31.78125 74.21875 \nz\n\" id=\"DejaVuSans-48\"/>\n       </defs>\n       <use xlink:href=\"#DejaVuSans-48\"/>\n      </g>\n     </g>\n    </g>\n    <g id=\"xtick_2\">\n     <g id=\"line2d_2\">\n      <g>\n       <use style=\"stroke:#000000;stroke-width:0.8;\" x=\"159.36054\" xlink:href=\"#m2806463ac6\" y=\"279\"/>\n      </g>\n     </g>\n     <g id=\"text_2\">\n      <!-- 1000 -->\n      <g transform=\"translate(146.63554 293.598437)scale(0.1 -0.1)\">\n       <defs>\n        <path d=\"M 12.40625 8.296875 \nL 28.515625 8.296875 \nL 28.515625 63.921875 \nL 10.984375 60.40625 \nL 10.984375 69.390625 \nL 28.421875 72.90625 \nL 38.28125 72.90625 \nL 38.28125 8.296875 \nL 54.390625 8.296875 \nL 54.390625 0 \nL 12.40625 0 \nz\n\" id=\"DejaVuSans-49\"/>\n       </defs>\n       <use xlink:href=\"#DejaVuSans-49\"/>\n       <use x=\"63.623047\" xlink:href=\"#DejaVuSans-48\"/>\n       <use x=\"127.246094\" xlink:href=\"#DejaVuSans-48\"/>\n       <use x=\"190.869141\" xlink:href=\"#DejaVuSans-48\"/>\n      </g>\n     </g>\n    </g>\n    <g id=\"xtick_3\">\n     <g id=\"line2d_3\">\n      <g>\n       <use style=\"stroke:#000000;stroke-width:0.8;\" x=\"255.061706\" xlink:href=\"#m2806463ac6\" y=\"279\"/>\n      </g>\n     </g>\n     <g id=\"text_3\">\n      <!-- 2000 -->\n      <g transform=\"translate(242.336706 293.598437)scale(0.1 -0.1)\">\n       <defs>\n        <path d=\"M 19.1875 8.296875 \nL 53.609375 8.296875 \nL 53.609375 0 \nL 7.328125 0 \nL 7.328125 8.296875 \nQ 12.9375 14.109375 22.625 23.890625 \nQ 32.328125 33.6875 34.8125 36.53125 \nQ 39.546875 41.84375 41.421875 45.53125 \nQ 43.3125 49.21875 43.3125 52.78125 \nQ 43.3125 58.59375 39.234375 62.25 \nQ 35.15625 65.921875 28.609375 65.921875 \nQ 23.96875 65.921875 18.8125 64.3125 \nQ 13.671875 62.703125 7.8125 59.421875 \nL 7.8125 69.390625 \nQ 13.765625 71.78125 18.9375 73 \nQ 24.125 74.21875 28.421875 74.21875 \nQ 39.75 74.21875 46.484375 68.546875 \nQ 53.21875 62.890625 53.21875 53.421875 \nQ 53.21875 48.921875 51.53125 44.890625 \nQ 49.859375 40.875 45.40625 35.40625 \nQ 44.1875 33.984375 37.640625 27.21875 \nQ 31.109375 20.453125 19.1875 8.296875 \nz\n\" id=\"DejaVuSans-50\"/>\n       </defs>\n       <use xlink:href=\"#DejaVuSans-50\"/>\n       <use x=\"63.623047\" xlink:href=\"#DejaVuSans-48\"/>\n       <use x=\"127.246094\" xlink:href=\"#DejaVuSans-48\"/>\n       <use x=\"190.869141\" xlink:href=\"#DejaVuSans-48\"/>\n      </g>\n     </g>\n    </g>\n    <g id=\"xtick_4\">\n     <g id=\"line2d_4\">\n      <g>\n       <use style=\"stroke:#000000;stroke-width:0.8;\" x=\"350.762871\" xlink:href=\"#m2806463ac6\" y=\"279\"/>\n      </g>\n     </g>\n     <g id=\"text_4\">\n      <!-- 3000 -->\n      <g transform=\"translate(338.037871 293.598437)scale(0.1 -0.1)\">\n       <defs>\n        <path d=\"M 40.578125 39.3125 \nQ 47.65625 37.796875 51.625 33 \nQ 55.609375 28.21875 55.609375 21.1875 \nQ 55.609375 10.40625 48.1875 4.484375 \nQ 40.765625 -1.421875 27.09375 -1.421875 \nQ 22.515625 -1.421875 17.65625 -0.515625 \nQ 12.796875 0.390625 7.625 2.203125 \nL 7.625 11.71875 \nQ 11.71875 9.328125 16.59375 8.109375 \nQ 21.484375 6.890625 26.8125 6.890625 \nQ 36.078125 6.890625 40.9375 10.546875 \nQ 45.796875 14.203125 45.796875 21.1875 \nQ 45.796875 27.640625 41.28125 31.265625 \nQ 36.765625 34.90625 28.71875 34.90625 \nL 20.21875 34.90625 \nL 20.21875 43.015625 \nL 29.109375 43.015625 \nQ 36.375 43.015625 40.234375 45.921875 \nQ 44.09375 48.828125 44.09375 54.296875 \nQ 44.09375 59.90625 40.109375 62.90625 \nQ 36.140625 65.921875 28.71875 65.921875 \nQ 24.65625 65.921875 20.015625 65.03125 \nQ 15.375 64.15625 9.8125 62.3125 \nL 9.8125 71.09375 \nQ 15.4375 72.65625 20.34375 73.4375 \nQ 25.25 74.21875 29.59375 74.21875 \nQ 40.828125 74.21875 47.359375 69.109375 \nQ 53.90625 64.015625 53.90625 55.328125 \nQ 53.90625 49.265625 50.4375 45.09375 \nQ 46.96875 40.921875 40.578125 39.3125 \nz\n\" id=\"DejaVuSans-51\"/>\n       </defs>\n       <use xlink:href=\"#DejaVuSans-51\"/>\n       <use x=\"63.623047\" xlink:href=\"#DejaVuSans-48\"/>\n       <use x=\"127.246094\" xlink:href=\"#DejaVuSans-48\"/>\n       <use x=\"190.869141\" xlink:href=\"#DejaVuSans-48\"/>\n      </g>\n     </g>\n    </g>\n    <g id=\"xtick_5\">\n     <g id=\"line2d_5\">\n      <g>\n       <use style=\"stroke:#000000;stroke-width:0.8;\" x=\"446.464037\" xlink:href=\"#m2806463ac6\" y=\"279\"/>\n      </g>\n     </g>\n     <g id=\"text_5\">\n      <!-- 4000 -->\n      <g transform=\"translate(433.739037 293.598437)scale(0.1 -0.1)\">\n       <defs>\n        <path d=\"M 37.796875 64.3125 \nL 12.890625 25.390625 \nL 37.796875 25.390625 \nz\nM 35.203125 72.90625 \nL 47.609375 72.90625 \nL 47.609375 25.390625 \nL 58.015625 25.390625 \nL 58.015625 17.1875 \nL 47.609375 17.1875 \nL 47.609375 0 \nL 37.796875 0 \nL 37.796875 17.1875 \nL 4.890625 17.1875 \nL 4.890625 26.703125 \nz\n\" id=\"DejaVuSans-52\"/>\n       </defs>\n       <use xlink:href=\"#DejaVuSans-52\"/>\n       <use x=\"63.623047\" xlink:href=\"#DejaVuSans-48\"/>\n       <use x=\"127.246094\" xlink:href=\"#DejaVuSans-48\"/>\n       <use x=\"190.869141\" xlink:href=\"#DejaVuSans-48\"/>\n      </g>\n     </g>\n    </g>\n    <g id=\"xtick_6\">\n     <g id=\"line2d_6\">\n      <g>\n       <use style=\"stroke:#000000;stroke-width:0.8;\" x=\"542.165202\" xlink:href=\"#m2806463ac6\" y=\"279\"/>\n      </g>\n     </g>\n     <g id=\"text_6\">\n      <!-- 5000 -->\n      <g transform=\"translate(529.440202 293.598437)scale(0.1 -0.1)\">\n       <defs>\n        <path d=\"M 10.796875 72.90625 \nL 49.515625 72.90625 \nL 49.515625 64.59375 \nL 19.828125 64.59375 \nL 19.828125 46.734375 \nQ 21.96875 47.46875 24.109375 47.828125 \nQ 26.265625 48.1875 28.421875 48.1875 \nQ 40.625 48.1875 47.75 41.5 \nQ 54.890625 34.8125 54.890625 23.390625 \nQ 54.890625 11.625 47.5625 5.09375 \nQ 40.234375 -1.421875 26.90625 -1.421875 \nQ 22.3125 -1.421875 17.546875 -0.640625 \nQ 12.796875 0.140625 7.71875 1.703125 \nL 7.71875 11.625 \nQ 12.109375 9.234375 16.796875 8.0625 \nQ 21.484375 6.890625 26.703125 6.890625 \nQ 35.15625 6.890625 40.078125 11.328125 \nQ 45.015625 15.765625 45.015625 23.390625 \nQ 45.015625 31 40.078125 35.4375 \nQ 35.15625 39.890625 26.703125 39.890625 \nQ 22.75 39.890625 18.8125 39.015625 \nQ 14.890625 38.140625 10.796875 36.28125 \nz\n\" id=\"DejaVuSans-53\"/>\n       </defs>\n       <use xlink:href=\"#DejaVuSans-53\"/>\n       <use x=\"63.623047\" xlink:href=\"#DejaVuSans-48\"/>\n       <use x=\"127.246094\" xlink:href=\"#DejaVuSans-48\"/>\n       <use x=\"190.869141\" xlink:href=\"#DejaVuSans-48\"/>\n      </g>\n     </g>\n    </g>\n   </g>\n   <g id=\"matplotlib.axis_2\">\n    <g id=\"ytick_1\">\n     <g id=\"line2d_7\">\n      <defs>\n       <path d=\"M 0 0 \nL -3.5 0 \n\" id=\"m4c1b53349f\" style=\"stroke:#000000;stroke-width:0.8;\"/>\n      </defs>\n      <g>\n       <use style=\"stroke:#000000;stroke-width:0.8;\" x=\"63.659375\" xlink:href=\"#m4c1b53349f\" y=\"211.05\"/>\n      </g>\n     </g>\n     <g id=\"text_7\">\n      <!-- Megan Su -->\n      <g transform=\"translate(7.2 214.849219)scale(0.1 -0.1)\">\n       <defs>\n        <path d=\"M 9.8125 72.90625 \nL 24.515625 72.90625 \nL 43.109375 23.296875 \nL 61.8125 72.90625 \nL 76.515625 72.90625 \nL 76.515625 0 \nL 66.890625 0 \nL 66.890625 64.015625 \nL 48.09375 14.015625 \nL 38.1875 14.015625 \nL 19.390625 64.015625 \nL 19.390625 0 \nL 9.8125 0 \nz\n\" id=\"DejaVuSans-77\"/>\n        <path d=\"M 56.203125 29.59375 \nL 56.203125 25.203125 \nL 14.890625 25.203125 \nQ 15.484375 15.921875 20.484375 11.0625 \nQ 25.484375 6.203125 34.421875 6.203125 \nQ 39.59375 6.203125 44.453125 7.46875 \nQ 49.3125 8.734375 54.109375 11.28125 \nL 54.109375 2.78125 \nQ 49.265625 0.734375 44.1875 -0.34375 \nQ 39.109375 -1.421875 33.890625 -1.421875 \nQ 20.796875 -1.421875 13.15625 6.1875 \nQ 5.515625 13.8125 5.515625 26.8125 \nQ 5.515625 40.234375 12.765625 48.109375 \nQ 20.015625 56 32.328125 56 \nQ 43.359375 56 49.78125 48.890625 \nQ 56.203125 41.796875 56.203125 29.59375 \nz\nM 47.21875 32.234375 \nQ 47.125 39.59375 43.09375 43.984375 \nQ 39.0625 48.390625 32.421875 48.390625 \nQ 24.90625 48.390625 20.390625 44.140625 \nQ 15.875 39.890625 15.1875 32.171875 \nz\n\" id=\"DejaVuSans-101\"/>\n        <path d=\"M 45.40625 27.984375 \nQ 45.40625 37.75 41.375 43.109375 \nQ 37.359375 48.484375 30.078125 48.484375 \nQ 22.859375 48.484375 18.828125 43.109375 \nQ 14.796875 37.75 14.796875 27.984375 \nQ 14.796875 18.265625 18.828125 12.890625 \nQ 22.859375 7.515625 30.078125 7.515625 \nQ 37.359375 7.515625 41.375 12.890625 \nQ 45.40625 18.265625 45.40625 27.984375 \nz\nM 54.390625 6.78125 \nQ 54.390625 -7.171875 48.1875 -13.984375 \nQ 42 -20.796875 29.203125 -20.796875 \nQ 24.46875 -20.796875 20.265625 -20.09375 \nQ 16.0625 -19.390625 12.109375 -17.921875 \nL 12.109375 -9.1875 \nQ 16.0625 -11.328125 19.921875 -12.34375 \nQ 23.78125 -13.375 27.78125 -13.375 \nQ 36.625 -13.375 41.015625 -8.765625 \nQ 45.40625 -4.15625 45.40625 5.171875 \nL 45.40625 9.625 \nQ 42.625 4.78125 38.28125 2.390625 \nQ 33.9375 0 27.875 0 \nQ 17.828125 0 11.671875 7.65625 \nQ 5.515625 15.328125 5.515625 27.984375 \nQ 5.515625 40.671875 11.671875 48.328125 \nQ 17.828125 56 27.875 56 \nQ 33.9375 56 38.28125 53.609375 \nQ 42.625 51.21875 45.40625 46.390625 \nL 45.40625 54.6875 \nL 54.390625 54.6875 \nz\n\" id=\"DejaVuSans-103\"/>\n        <path d=\"M 34.28125 27.484375 \nQ 23.390625 27.484375 19.1875 25 \nQ 14.984375 22.515625 14.984375 16.5 \nQ 14.984375 11.71875 18.140625 8.90625 \nQ 21.296875 6.109375 26.703125 6.109375 \nQ 34.1875 6.109375 38.703125 11.40625 \nQ 43.21875 16.703125 43.21875 25.484375 \nL 43.21875 27.484375 \nz\nM 52.203125 31.203125 \nL 52.203125 0 \nL 43.21875 0 \nL 43.21875 8.296875 \nQ 40.140625 3.328125 35.546875 0.953125 \nQ 30.953125 -1.421875 24.3125 -1.421875 \nQ 15.921875 -1.421875 10.953125 3.296875 \nQ 6 8.015625 6 15.921875 \nQ 6 25.140625 12.171875 29.828125 \nQ 18.359375 34.515625 30.609375 34.515625 \nL 43.21875 34.515625 \nL 43.21875 35.40625 \nQ 43.21875 41.609375 39.140625 45 \nQ 35.0625 48.390625 27.6875 48.390625 \nQ 23 48.390625 18.546875 47.265625 \nQ 14.109375 46.140625 10.015625 43.890625 \nL 10.015625 52.203125 \nQ 14.9375 54.109375 19.578125 55.046875 \nQ 24.21875 56 28.609375 56 \nQ 40.484375 56 46.34375 49.84375 \nQ 52.203125 43.703125 52.203125 31.203125 \nz\n\" id=\"DejaVuSans-97\"/>\n        <path d=\"M 54.890625 33.015625 \nL 54.890625 0 \nL 45.90625 0 \nL 45.90625 32.71875 \nQ 45.90625 40.484375 42.875 44.328125 \nQ 39.84375 48.1875 33.796875 48.1875 \nQ 26.515625 48.1875 22.3125 43.546875 \nQ 18.109375 38.921875 18.109375 30.90625 \nL 18.109375 0 \nL 9.078125 0 \nL 9.078125 54.6875 \nL 18.109375 54.6875 \nL 18.109375 46.1875 \nQ 21.34375 51.125 25.703125 53.5625 \nQ 30.078125 56 35.796875 56 \nQ 45.21875 56 50.046875 50.171875 \nQ 54.890625 44.34375 54.890625 33.015625 \nz\n\" id=\"DejaVuSans-110\"/>\n        <path id=\"DejaVuSans-32\"/>\n        <path d=\"M 53.515625 70.515625 \nL 53.515625 60.890625 \nQ 47.90625 63.578125 42.921875 64.890625 \nQ 37.9375 66.21875 33.296875 66.21875 \nQ 25.25 66.21875 20.875 63.09375 \nQ 16.5 59.96875 16.5 54.203125 \nQ 16.5 49.359375 19.40625 46.890625 \nQ 22.3125 44.4375 30.421875 42.921875 \nL 36.375 41.703125 \nQ 47.40625 39.59375 52.65625 34.296875 \nQ 57.90625 29 57.90625 20.125 \nQ 57.90625 9.515625 50.796875 4.046875 \nQ 43.703125 -1.421875 29.984375 -1.421875 \nQ 24.8125 -1.421875 18.96875 -0.25 \nQ 13.140625 0.921875 6.890625 3.21875 \nL 6.890625 13.375 \nQ 12.890625 10.015625 18.65625 8.296875 \nQ 24.421875 6.59375 29.984375 6.59375 \nQ 38.421875 6.59375 43.015625 9.90625 \nQ 47.609375 13.234375 47.609375 19.390625 \nQ 47.609375 24.75 44.3125 27.78125 \nQ 41.015625 30.8125 33.5 32.328125 \nL 27.484375 33.5 \nQ 16.453125 35.6875 11.515625 40.375 \nQ 6.59375 45.0625 6.59375 53.421875 \nQ 6.59375 63.09375 13.40625 68.65625 \nQ 20.21875 74.21875 32.171875 74.21875 \nQ 37.3125 74.21875 42.625 73.28125 \nQ 47.953125 72.359375 53.515625 70.515625 \nz\n\" id=\"DejaVuSans-83\"/>\n        <path d=\"M 8.5 21.578125 \nL 8.5 54.6875 \nL 17.484375 54.6875 \nL 17.484375 21.921875 \nQ 17.484375 14.15625 20.5 10.265625 \nQ 23.53125 6.390625 29.59375 6.390625 \nQ 36.859375 6.390625 41.078125 11.03125 \nQ 45.3125 15.671875 45.3125 23.6875 \nL 45.3125 54.6875 \nL 54.296875 54.6875 \nL 54.296875 0 \nL 45.3125 0 \nL 45.3125 8.40625 \nQ 42.046875 3.421875 37.71875 1 \nQ 33.40625 -1.421875 27.6875 -1.421875 \nQ 18.265625 -1.421875 13.375 4.4375 \nQ 8.5 10.296875 8.5 21.578125 \nz\nM 31.109375 56 \nz\n\" id=\"DejaVuSans-117\"/>\n       </defs>\n       <use xlink:href=\"#DejaVuSans-77\"/>\n       <use x=\"86.279297\" xlink:href=\"#DejaVuSans-101\"/>\n       <use x=\"147.802734\" xlink:href=\"#DejaVuSans-103\"/>\n       <use x=\"211.279297\" xlink:href=\"#DejaVuSans-97\"/>\n       <use x=\"272.558594\" xlink:href=\"#DejaVuSans-110\"/>\n       <use x=\"335.9375\" xlink:href=\"#DejaVuSans-32\"/>\n       <use x=\"367.724609\" xlink:href=\"#DejaVuSans-83\"/>\n       <use x=\"431.201172\" xlink:href=\"#DejaVuSans-117\"/>\n      </g>\n     </g>\n    </g>\n    <g id=\"ytick_2\">\n     <g id=\"line2d_8\">\n      <g>\n       <use style=\"stroke:#000000;stroke-width:0.8;\" x=\"63.659375\" xlink:href=\"#m4c1b53349f\" y=\"75.15\"/>\n      </g>\n     </g>\n     <g id=\"text_8\">\n      <!-- ì¥ìì -->\n      <g transform=\"translate(11.954687 78.992969)scale(0.1 -0.1)\">\n       <defs>\n        <path d=\"M 6.84375 79.984375 \nL 20.609375 61.71875 \nL 13.140625 61.71875 \nL -2.78125 79.984375 \nz\nM 9.421875 54.6875 \nL 18.40625 54.6875 \nL 18.40625 0 \nL 9.421875 0 \nz\nM 13.921875 56 \nz\n\" id=\"DejaVuSans-236\"/>\n        <path d=\"M 4.984375 -17.671875 \nL 4.984375 70.515625 \nL 54.984375 70.515625 \nL 54.984375 -17.671875 \nz\nM 10.59375 -12.109375 \nL 49.421875 -12.109375 \nL 49.421875 64.890625 \nL 10.59375 64.890625 \nz\n\" id=\"DejaVuSans-158\"/>\n        <path d=\"M 56.890625 22.21875 \nL 36.71875 22.21875 \nL 36.71875 0 \nL 26.90625 0 \nL 26.90625 22.21875 \nL 6.59375 22.21875 \nL 6.59375 28.21875 \nL 26.90625 28.21875 \nL 26.90625 30.71875 \nL 22.796875 38.28125 \nL 6.59375 38.28125 \nL 6.59375 44.28125 \nL 19.484375 44.28125 \nL 4 72.90625 \nL 13.28125 72.90625 \nL 31.78125 38.71875 \nL 50.203125 72.90625 \nL 59.515625 72.90625 \nL 44 44.28125 \nL 56.890625 44.28125 \nL 56.890625 38.28125 \nL 40.71875 38.28125 \nL 36.625 30.71875 \nL 36.625 28.21875 \nL 56.890625 28.21875 \nz\n\" id=\"DejaVuSans-165\"/>\n        <path d=\"M 4.984375 -17.671875 \nL 4.984375 70.515625 \nL 54.984375 70.515625 \nL 54.984375 -17.671875 \nz\nM 10.59375 -12.109375 \nL 49.421875 -12.109375 \nL 49.421875 64.890625 \nL 10.59375 64.890625 \nz\n\" id=\"DejaVuSans-136\"/>\n        <path d=\"M 4.984375 -17.671875 \nL 4.984375 70.515625 \nL 54.984375 70.515625 \nL 54.984375 -17.671875 \nz\nM 10.59375 -12.109375 \nL 49.421875 -12.109375 \nL 49.421875 64.890625 \nL 10.59375 64.890625 \nz\n\" id=\"DejaVuSans-152\"/>\n        <path d=\"M 4.984375 -17.671875 \nL 4.984375 70.515625 \nL 54.984375 70.515625 \nL 54.984375 -17.671875 \nz\nM 10.59375 -12.109375 \nL 49.421875 -12.109375 \nL 49.421875 64.890625 \nL 10.59375 64.890625 \nz\n\" id=\"DejaVuSans-129\"/>\n       </defs>\n       <use xlink:href=\"#DejaVuSans-236\"/>\n       <use x=\"27.783203\" xlink:href=\"#DejaVuSans-158\"/>\n       <use x=\"87.792969\" xlink:href=\"#DejaVuSans-165\"/>\n       <use x=\"151.416016\" xlink:href=\"#DejaVuSans-236\"/>\n       <use x=\"179.199219\" xlink:href=\"#DejaVuSans-136\"/>\n       <use x=\"239.208984\" xlink:href=\"#DejaVuSans-152\"/>\n       <use x=\"299.21875\" xlink:href=\"#DejaVuSans-236\"/>\n       <use x=\"327.001953\" xlink:href=\"#DejaVuSans-152\"/>\n       <use x=\"387.011719\" xlink:href=\"#DejaVuSans-129\"/>\n      </g>\n     </g>\n    </g>\n   </g>\n   <g id=\"patch_5\">\n    <path d=\"M 63.659375 279 \nL 63.659375 7.2 \n\" style=\"fill:none;stroke:#000000;stroke-linecap:square;stroke-linejoin:miter;stroke-width:0.8;\"/>\n   </g>\n   <g id=\"patch_6\">\n    <path d=\"M 621.659375 279 \nL 621.659375 7.2 \n\" style=\"fill:none;stroke:#000000;stroke-linecap:square;stroke-linejoin:miter;stroke-width:0.8;\"/>\n   </g>\n   <g id=\"patch_7\">\n    <path d=\"M 63.659375 279 \nL 621.659375 279 \n\" style=\"fill:none;stroke:#000000;stroke-linecap:square;stroke-linejoin:miter;stroke-width:0.8;\"/>\n   </g>\n   <g id=\"patch_8\">\n    <path d=\"M 63.659375 7.2 \nL 621.659375 7.2 \n\" style=\"fill:none;stroke:#000000;stroke-linecap:square;stroke-linejoin:miter;stroke-width:0.8;\"/>\n   </g>\n  </g>\n </g>\n <defs>\n  <clipPath id=\"p1dd6300494\">\n   <rect height=\"271.8\" width=\"558\" x=\"63.659375\" y=\"7.2\"/>\n  </clipPath>\n </defs>\n</svg>\n",
      "image/png": "[encoded data removed]"
     },
     "metadata": {
      "needs_background": "light"
     }
    }
   ],
   "source": [
    "df.sender_name.value_counts().plot.barh()"
   ]
  },
  {
   "cell_type": "code",
   "execution_count": 14,
   "metadata": {},
   "outputs": [
    {
     "output_type": "stream",
     "name": "stdout",
     "text": [
      "Megan Su wrote 24843 words (117869 characters)\nì¥ìì wrote 18767 words (86656 characters)\n"
     ]
    }
   ],
   "source": [
    "words = {}\n",
    "for name, data in df.groupby(\"sender_name\"):\n",
    "    words[name] = data.content.str.cat(sep=\" \")\n",
    "    wordcount = len(words[name].split(\" \"))\n",
    "    print(f\"{name} wrote {wordcount} words ({len(words[name])} characters)\")"
   ]
  },
  {
   "cell_type": "markdown",
   "metadata": {},
   "source": [
    "# Importing all the conversations\r\n",
    "\r\n",
    "This is a bit trickier as you need to do something with all the conversations you're loading up."
   ]
  },
  {
   "cell_type": "code",
   "execution_count": 15,
   "metadata": {},
   "outputs": [
    {
     "output_type": "stream",
     "name": "stdout",
     "text": [
      "There are 190 conversations to look at.\n"
     ]
    }
   ],
   "source": [
    "rootdir =  \"fb_data/messages/inbox\"\n",
    "conversations = []\n",
    "for d in os.listdir(rootdir):\n",
    "    conversations.append(d)\n",
    "print(f\"There are {len(conversations)} conversations to look at.\")"
   ]
  },
  {
   "cell_type": "code",
   "execution_count": 16,
   "metadata": {
    "tags": [
     "outputPrepend"
    ]
   },
   "outputs": [
    {
     "output_type": "stream",
     "name": "stdout",
     "text": [
      "\n[Errno 2] No such file or directory: 'fb_data\\\\messages\\\\inbox\\\\jinsol_xtvz6knuqq\\\\message_1.json'\n\nbagbogyeong_sfbr7_2nwa\n[Errno 2] No such file or directory: 'fb_data\\\\messages\\\\inbox\\\\bagbogyeong_sfbr7_2nwa\\\\message_1.json'\n\n8ballpoolgame_jsnpd3v-ww\n[Errno 2] No such file or directory: 'fb_data\\\\messages\\\\inbox\\\\8ballpoolgame_jsnpd3v-ww\\\\message_1.json'\n\nnalae_birkknf-ka\n[Errno 2] No such file or directory: 'fb_data\\\\messages\\\\inbox\\\\nalae_birkknf-ka\\\\message_1.json'\n\njustinlee_bi_esmfirg\n[Errno 2] No such file or directory: 'fb_data\\\\messages\\\\inbox\\\\justinlee_bi_esmfirg\\\\message_1.json'\n\nharrysuh_rwfagq4_qg\n[Errno 2] No such file or directory: 'fb_data\\\\messages\\\\inbox\\\\harrysuh_rwfagq4_qg\\\\message_1.json'\n\ngimsiu_ja2kttdwya\n[Errno 2] No such file or directory: 'fb_data\\\\messages\\\\inbox\\\\gimsiu_ja2kttdwya\\\\message_1.json'\n\nfacebookuser_wivkkfm0hq\n[Errno 2] No such file or directory: 'fb_data\\\\messages\\\\inbox\\\\facebookuser_wivkkfm0hq\\\\message_1.json'\n\ngimyeong_klyjwk2hwq\n[Errno 2] No such file or directory: 'fb_data\\\\messages\\\\inbox\\\\gimyeong_klyjwk2hwq\\\\message_1.json'\n\njeongyeon_lxvnzlbtha\n[Errno 2] No such file or directory: 'fb_data\\\\messages\\\\inbox\\\\jeongyeon_lxvnzlbtha\\\\message_1.json'\n\njojeongeun_eautash1ea\n[Errno 2] No such file or directory: 'fb_data\\\\messages\\\\inbox\\\\jojeongeun_eautash1ea\\\\message_1.json'\n\nfacebookuser_cxdeamihlq\n[Errno 2] No such file or directory: 'fb_data\\\\messages\\\\inbox\\\\facebookuser_cxdeamihlq\\\\message_1.json'\n\nyugalam_j7wyt4lada\n[Errno 2] No such file or directory: 'fb_data\\\\messages\\\\inbox\\\\yugalam_j7wyt4lada\\\\message_1.json'\n\nbenv_sf7trqu45w\n[Errno 2] No such file or directory: 'fb_data\\\\messages\\\\inbox\\\\benv_sf7trqu45w\\\\message_1.json'\n\ncandychoi_i12u2u3-6w\n[Errno 2] No such file or directory: 'fb_data\\\\messages\\\\inbox\\\\candychoi_i12u2u3-6w\\\\message_1.json'\n\nlisakim_rux4cqxfgq\n[Errno 2] No such file or directory: 'fb_data\\\\messages\\\\inbox\\\\lisakim_rux4cqxfgq\\\\message_1.json'\n\njangyuyeon_uc1ejngaaw\n[Errno 2] No such file or directory: 'fb_data\\\\messages\\\\inbox\\\\jangyuyeon_uc1ejngaaw\\\\message_1.json'\n\nbellarosemangini_jclexrxrya\n[Errno 2] No such file or directory: 'fb_data\\\\messages\\\\inbox\\\\bellarosemangini_jclexrxrya\\\\message_1.json'\n\nzanemestousis_dstnx8e-jw\n[Errno 2] No such file or directory: 'fb_data\\\\messages\\\\inbox\\\\zanemestousis_dstnx8e-jw\\\\message_1.json'\n\nyuqianchen_gczdgxyjew\n[Errno 2] No such file or directory: 'fb_data\\\\messages\\\\inbox\\\\yuqianchen_gczdgxyjew\\\\message_1.json'\n\nchaeyongseog_eaeavyjznw\n[Errno 2] No such file or directory: 'fb_data\\\\messages\\\\inbox\\\\chaeyongseog_eaeavyjznw\\\\message_1.json'\n\nbagminhui_d-zqwgtszg\n[Errno 2] No such file or directory: 'fb_data\\\\messages\\\\inbox\\\\bagminhui_d-zqwgtszg\\\\message_1.json'\n\nmindongju__dcb2c9opq\n[Errno 2] No such file or directory: 'fb_data\\\\messages\\\\inbox\\\\mindongju__dcb2c9opq\\\\message_1.json'\n\nzacharyyang_yqqjusa6zq\n[Errno 2] No such file or directory: 'fb_data\\\\messages\\\\inbox\\\\zacharyyang_yqqjusa6zq\\\\message_1.json'\n\ngimsalang_oe1ht6bkaq\n[Errno 2] No such file or directory: 'fb_data\\\\messages\\\\inbox\\\\gimsalang_oe1ht6bkaq\\\\message_1.json'\n\nfacebookuser_ce3rnn-utq\n[Errno 2] No such file or directory: 'fb_data\\\\messages\\\\inbox\\\\facebookuser_ce3rnn-utq\\\\message_1.json'\n\nrickyweng_hky6qm0wyg\n[Errno 2] No such file or directory: 'fb_data\\\\messages\\\\inbox\\\\rickyweng_hky6qm0wyg\\\\message_1.json'\n\ngimminyeong_5dkflxws5w\n[Errno 2] No such file or directory: 'fb_data\\\\messages\\\\inbox\\\\gimminyeong_5dkflxws5w\\\\message_1.json'\n\nigayeong_ko9r4gr9tq\n[Errno 2] No such file or directory: 'fb_data\\\\messages\\\\inbox\\\\igayeong_ko9r4gr9tq\\\\message_1.json'\n\nttolasssseu_iivyeunryg\n[Errno 2] No such file or directory: 'fb_data\\\\messages\\\\inbox\\\\ttolasssseu_iivyeunryg\\\\message_1.json'\n\nfacebookuser_6jznnuobhg\n[Errno 2] No such file or directory: 'fb_data\\\\messages\\\\inbox\\\\facebookuser_6jznnuobhg\\\\message_1.json'\n\njuliehan_klltrkjfma\n[Errno 2] No such file or directory: 'fb_data\\\\messages\\\\inbox\\\\juliehan_klltrkjfma\\\\message_1.json'\n\nfacebookuser_qhk3wc1xww\n[Errno 2] No such file or directory: 'fb_data\\\\messages\\\\inbox\\\\facebookuser_qhk3wc1xww\\\\message_1.json'\n\nliyuandyo_edxokmg4mg\n[Errno 2] No such file or directory: 'fb_data\\\\messages\\\\inbox\\\\liyuandyo_edxokmg4mg\\\\message_1.json'\n\npatriciagrigoriou_im5gnf-jtw\n[Errno 2] No such file or directory: 'fb_data\\\\messages\\\\inbox\\\\patriciagrigoriou_im5gnf-jtw\\\\message_1.json'\n\nthanyarattshathaporn_5h8gi7kclw\n[Errno 2] No such file or directory: 'fb_data\\\\messages\\\\inbox\\\\thanyarattshathaporn_5h8gi7kclw\\\\message_1.json'\n\nfacebookuser_7jm5-fv_nq\n[Errno 2] No such file or directory: 'fb_data\\\\messages\\\\inbox\\\\facebookuser_7jm5-fv_nq\\\\message_1.json'\n\nhangughaeyangdaehaggyodaenamusup_zhgdo5o9ma\n[Errno 2] No such file or directory: 'fb_data\\\\messages\\\\inbox\\\\hangughaeyangdaehaggyodaenamusup_zhgdo5o9ma\\\\message_1.json'\n\njeongyunseo_evmkvh9jpw\n[Errno 2] No such file or directory: 'fb_data\\\\messages\\\\inbox\\\\jeongyunseo_evmkvh9jpw\\\\message_1.json'\n\nfacebookuser_jq8kp8glza\n[Errno 2] No such file or directory: 'fb_data\\\\messages\\\\inbox\\\\facebookuser_jq8kp8glza\\\\message_1.json'\n\njeongmunjeong_gql5j1yvrw\n[Errno 2] No such file or directory: 'fb_data\\\\messages\\\\inbox\\\\jeongmunjeong_gql5j1yvrw\\\\message_1.json'\n\nsaekk_20w9gbf8hw\n[Errno 2] No such file or directory: 'fb_data\\\\messages\\\\inbox\\\\saekk_20w9gbf8hw\\\\message_1.json'\n\ngimyeyeong_dsgcf7vwqa\n[Errno 2] No such file or directory: 'fb_data\\\\messages\\\\inbox\\\\gimyeyeong_dsgcf7vwqa\\\\message_1.json'\n\ntehmaniross_8kayzzrmta\n[Errno 2] No such file or directory: 'fb_data\\\\messages\\\\inbox\\\\tehmaniross_8kayzzrmta\\\\message_1.json'\n\nmessenger_2fc1mtbrmq\n[Errno 2] No such file or directory: 'fb_data\\\\messages\\\\inbox\\\\messenger_2fc1mtbrmq\\\\message_1.json'\n\nfacebookuser_u1srarjvmw\n[Errno 2] No such file or directory: 'fb_data\\\\messages\\\\inbox\\\\facebookuser_u1srarjvmw\\\\message_1.json'\n\nhoneyhhoney_4bagrexlvg\n[Errno 2] No such file or directory: 'fb_data\\\\messages\\\\inbox\\\\honeyhhoney_4bagrexlvg\\\\message_1.json'\n\ntkorseuu2q\n[Errno 2] No such file or directory: 'fb_data\\\\messages\\\\inbox\\\\tkorseuu2q\\\\message_1.json'\n\ntalochaesboslamama_j4rh1xq0ga\n[Errno 2] No such file or directory: 'fb_data\\\\messages\\\\inbox\\\\talochaesboslamama_j4rh1xq0ga\\\\message_1.json'\n\nwilsonchen_dzqna_ctxa\n[Errno 2] No such file or directory: 'fb_data\\\\messages\\\\inbox\\\\wilsonchen_dzqna_ctxa\\\\message_1.json'\n\nharryfalconer_hea2cd1crw\n[Errno 2] No such file or directory: 'fb_data\\\\messages\\\\inbox\\\\harryfalconer_hea2cd1crw\\\\message_1.json'\n\nfacebookuser_8fipikqwpq\n[Errno 2] No such file or directory: 'fb_data\\\\messages\\\\inbox\\\\facebookuser_8fipikqwpq\\\\message_1.json'\n\njuhyeonkim_lbtfncsrgw\n[Errno 2] No such file or directory: 'fb_data\\\\messages\\\\inbox\\\\juhyeonkim_lbtfncsrgw\\\\message_1.json'\n\njanggeunyeong_z__oqc204q\n[Errno 2] No such file or directory: 'fb_data\\\\messages\\\\inbox\\\\janggeunyeong_z__oqc204q\\\\message_1.json'\n\nunswkoreanstudentsassociationksa_vmmjfc-ufa\n[Errno 2] No such file or directory: 'fb_data\\\\messages\\\\inbox\\\\unswkoreanstudentsassociationksa_vmmjfc-ufa\\\\message_1.json'\n\nfacebookuser_judbxcamdq\n[Errno 2] No such file or directory: 'fb_data\\\\messages\\\\inbox\\\\facebookuser_judbxcamdq\\\\message_1.json'\n\nfacebookuser_qjuxl8telw\n[Errno 2] No such file or directory: 'fb_data\\\\messages\\\\inbox\\\\facebookuser_qjuxl8telw\\\\message_1.json'\n\nandylee_gbchat5_gw\n[Errno 2] No such file or directory: 'fb_data\\\\messages\\\\inbox\\\\andylee_gbchat5_gw\\\\message_1.json'\n\njangayeong_rzuo80s_sa\n[Errno 2] No such file or directory: 'fb_data\\\\messages\\\\inbox\\\\jangayeong_rzuo80s_sa\\\\message_1.json'\n\nharrykang_wfqyzfws5g\n[Errno 2] No such file or directory: 'fb_data\\\\messages\\\\inbox\\\\harrykang_wfqyzfws5g\\\\message_1.json'\n\nyunsangho__oqszktxka\n[Errno 2] No such file or directory: 'fb_data\\\\messages\\\\inbox\\\\yunsangho__oqszktxka\\\\message_1.json'\n\ni0-quxhzja\n[Errno 2] No such file or directory: 'fb_data\\\\messages\\\\inbox\\\\i0-quxhzja\\\\message_1.json'\n\njanggeunyeong_h4kstnqerg\n[Errno 2] No such file or directory: 'fb_data\\\\messages\\\\inbox\\\\janggeunyeong_h4kstnqerg\\\\message_1.json'\n\nfacebookuser_nho3sg9u2g\n[Errno 2] No such file or directory: 'fb_data\\\\messages\\\\inbox\\\\facebookuser_nho3sg9u2g\\\\message_1.json'\n\nlukeheejunkim_ois4vsuwqw\n[Errno 2] No such file or directory: 'fb_data\\\\messages\\\\inbox\\\\lukeheejunkim_ois4vsuwqw\\\\message_1.json'\n\nfacebookuser_grqfuak9-w\n[Errno 2] No such file or directory: 'fb_data\\\\messages\\\\inbox\\\\facebookuser_grqfuak9-w\\\\message_1.json'\n\nfacebookuser_51yhz5uweq\n[Errno 2] No such file or directory: 'fb_data\\\\messages\\\\inbox\\\\facebookuser_51yhz5uweq\\\\message_1.json'\n\nalexlee_28ayvaixka\n[Errno 2] No such file or directory: 'fb_data\\\\messages\\\\inbox\\\\alexlee_28ayvaixka\\\\message_1.json'\n\nit1haeexga\n[Errno 2] No such file or directory: 'fb_data\\\\messages\\\\inbox\\\\it1haeexga\\\\message_1.json'\n\nsoyeon_0tj_yrh0ma\n[Errno 2] No such file or directory: 'fb_data\\\\messages\\\\inbox\\\\soyeon_0tj_yrh0ma\\\\message_1.json'\n\nserenajzo_kcjgxzsg6w\n[Errno 2] No such file or directory: 'fb_data\\\\messages\\\\inbox\\\\serenajzo_kcjgxzsg6w\\\\message_1.json'\n\nbettypark_n1h_c_iy9w\n[Errno 2] No such file or directory: 'fb_data\\\\messages\\\\inbox\\\\bettypark_n1h_c_iy9w\\\\message_1.json'\n\nfacebookuser_f7gkmcuyba\n[Errno 2] No such file or directory: 'fb_data\\\\messages\\\\inbox\\\\facebookuser_f7gkmcuyba\\\\message_1.json'\n\ngimsiu_1inwxfdm9q\n[Errno 2] No such file or directory: 'fb_data\\\\messages\\\\inbox\\\\gimsiu_1inwxfdm9q\\\\message_1.json'\n\ngimsiu_b2fzpt9mda\n[Errno 2] No such file or directory: 'fb_data\\\\messages\\\\inbox\\\\gimsiu_b2fzpt9mda\\\\message_1.json'\n\nsongjuyeon_tzy8wdm43g\n[Errno 2] No such file or directory: 'fb_data\\\\messages\\\\inbox\\\\songjuyeon_tzy8wdm43g\\\\message_1.json'\n\ngimhongnyeong_f2wwhqvitq\n[Errno 2] No such file or directory: 'fb_data\\\\messages\\\\inbox\\\\gimhongnyeong_f2wwhqvitq\\\\message_1.json'\n\nfacebookuser_nwuioqffia\n[Errno 2] No such file or directory: 'fb_data\\\\messages\\\\inbox\\\\facebookuser_nwuioqffia\\\\message_1.json'\n\nkarensu_s1v9qvmjhw\n[Errno 2] No such file or directory: 'fb_data\\\\messages\\\\inbox\\\\karensu_s1v9qvmjhw\\\\message_1.json'\n\nmaxkarendanielandmegan_3f9o5ugmzq\n[Errno 2] No such file or directory: 'fb_data\\\\messages\\\\inbox\\\\maxkarendanielandmegan_3f9o5ugmzq\\\\message_1.json'\n\nkarensnewcat_058e_vpu3g\n[Errno 2] No such file or directory: 'fb_data\\\\messages\\\\inbox\\\\karensnewcat_058e_vpu3g\\\\message_1.json'\n\njackhowell_g6-srglkow\n[Errno 2] No such file or directory: 'fb_data\\\\messages\\\\inbox\\\\jackhowell_g6-srglkow\\\\message_1.json'\n\npatriciagrigoriou_s6bax70wrw\n[Errno 2] No such file or directory: 'fb_data\\\\messages\\\\inbox\\\\patriciagrigoriou_s6bax70wrw\\\\message_1.json'\n\no_ghiwzl6v_g\n[Errno 2] No such file or directory: 'fb_data\\\\messages\\\\inbox\\\\o_ghiwzl6v_g\\\\message_1.json'\n\nannabelhayward_7kejz0hx4a\n[Errno 2] No such file or directory: 'fb_data\\\\messages\\\\inbox\\\\annabelhayward_7kejz0hx4a\\\\message_1.json'\n\ndrewjustinhe_zmfingn8ag\n[Errno 2] No such file or directory: 'fb_data\\\\messages\\\\inbox\\\\drewjustinhe_zmfingn8ag\\\\message_1.json'\n\nrachaelzheng_s-tw2zl8ow\n[Errno 2] No such file or directory: 'fb_data\\\\messages\\\\inbox\\\\rachaelzheng_s-tw2zl8ow\\\\message_1.json'\n\niseonghyeon_nizy5xvsqg\n[Errno 2] No such file or directory: 'fb_data\\\\messages\\\\inbox\\\\iseonghyeon_nizy5xvsqg\\\\message_1.json'\n\nandylim_uc1m0s41xw\n[Errno 2] No such file or directory: 'fb_data\\\\messages\\\\inbox\\\\andylim_uc1m0s41xw\\\\message_1.json'\n\njeonghwankim_tl75baqs3g\n[Errno 2] No such file or directory: 'fb_data\\\\messages\\\\inbox\\\\jeonghwankim_tl75baqs3g\\\\message_1.json'\n\ndanielandmegan_zwrk72-8za\n[Errno 2] No such file or directory: 'fb_data\\\\messages\\\\inbox\\\\danielandmegan_zwrk72-8za\\\\message_1.json'\n\nohwasil_wwryamnuag\n[Errno 2] No such file or directory: 'fb_data\\\\messages\\\\inbox\\\\ohwasil_wwryamnuag\\\\message_1.json'\n\nunameganandbogyeong_lbxv1xah8q\n[Errno 2] No such file or directory: 'fb_data\\\\messages\\\\inbox\\\\unameganandbogyeong_lbxv1xah8q\\\\message_1.json'\n\nfacebookuser_49smfhylyq\n[Errno 2] No such file or directory: 'fb_data\\\\messages\\\\inbox\\\\facebookuser_49smfhylyq\\\\message_1.json'\n\ndaniellee_hvyf57qdzw\n[Errno 2] No such file or directory: 'fb_data\\\\messages\\\\inbox\\\\daniellee_hvyf57qdzw\\\\message_1.json'\n\ncharlieoliver_aamdx5wwow\n[Errno 2] No such file or directory: 'fb_data\\\\messages\\\\inbox\\\\charlieoliver_aamdx5wwow\\\\message_1.json'\n\nestheryerimoh_kako0jrnya\n[Errno 2] No such file or directory: 'fb_data\\\\messages\\\\inbox\\\\estheryerimoh_kako0jrnya\\\\message_1.json'\n\nyuyehyeon_qantgbwrow\n[Errno 2] No such file or directory: 'fb_data\\\\messages\\\\inbox\\\\yuyehyeon_qantgbwrow\\\\message_1.json'\n\nfacebookuser_vjac2eis9g\n[Errno 2] No such file or directory: 'fb_data\\\\messages\\\\inbox\\\\facebookuser_vjac2eis9g\\\\message_1.json'\n\ntonyyang_axpzehipjg\n[Errno 2] No such file or directory: 'fb_data\\\\messages\\\\inbox\\\\tonyyang_axpzehipjg\\\\message_1.json'\n\nbagchaeyeong_xyqease80w\n[Errno 2] No such file or directory: 'fb_data\\\\messages\\\\inbox\\\\bagchaeyeong_xyqease80w\\\\message_1.json'\n\nwilliamlee_v-cwsw5onq\n[Errno 2] No such file or directory: 'fb_data\\\\messages\\\\inbox\\\\williamlee_v-cwsw5onq\\\\message_1.json'\n\n2h-xmzquga\n[Errno 2] No such file or directory: 'fb_data\\\\messages\\\\inbox\\\\2h-xmzquga\\\\message_1.json'\n\nemmakimber_wxeryiurnw\n[Errno 2] No such file or directory: 'fb_data\\\\messages\\\\inbox\\\\emmakimber_wxeryiurnw\\\\message_1.json'\n\ngraceyun_h3xiqgydxw\n[Errno 2] No such file or directory: 'fb_data\\\\messages\\\\inbox\\\\graceyun_h3xiqgydxw\\\\message_1.json'\n\nkatekim_c81widqb9q\n[Errno 2] No such file or directory: 'fb_data\\\\messages\\\\inbox\\\\katekim_c81widqb9q\\\\message_1.json'\n\nchanhwang_wg528b8qga\n[Errno 2] No such file or directory: 'fb_data\\\\messages\\\\inbox\\\\chanhwang_wg528b8qga\\\\message_1.json'\n\nmegansu_zepkvzqqpg\n[Errno 2] No such file or directory: 'fb_data\\\\messages\\\\inbox\\\\megansu_zepkvzqqpg\\\\message_1.json'\n\nyluikqv0tq\n[Errno 2] No such file or directory: 'fb_data\\\\messages\\\\inbox\\\\yluikqv0tq\\\\message_1.json'\n\nihyeonjun_rx8jwshpwq\n[Errno 2] No such file or directory: 'fb_data\\\\messages\\\\inbox\\\\ihyeonjun_rx8jwshpwq\\\\message_1.json'\n\nremikobayashi_urc1rn8hgg\n[Errno 2] No such file or directory: 'fb_data\\\\messages\\\\inbox\\\\remikobayashi_urc1rn8hgg\\\\message_1.json'\n\nparkhyuna_0vgvo5i_sg\n[Errno 2] No such file or directory: 'fb_data\\\\messages\\\\inbox\\\\parkhyuna_0vgvo5i_sg\\\\message_1.json'\n\nchristinaruan__fkjiyeg1q\n[Errno 2] No such file or directory: 'fb_data\\\\messages\\\\inbox\\\\christinaruan__fkjiyeg1q\\\\message_1.json'\n\nfacebookuser_yw-kjzkfra\n[Errno 2] No such file or directory: 'fb_data\\\\messages\\\\inbox\\\\facebookuser_yw-kjzkfra\\\\message_1.json'\n\nrachelhyerinchoi_ghmc1qxxia\n[Errno 2] No such file or directory: 'fb_data\\\\messages\\\\inbox\\\\rachelhyerinchoi_ghmc1qxxia\\\\message_1.json'\n\nhyerikim_ctyzkj_npg\n[Errno 2] No such file or directory: 'fb_data\\\\messages\\\\inbox\\\\hyerikim_ctyzkj_npg\\\\message_1.json'\n\nanseungyong_wissislo-q\n[Errno 2] No such file or directory: 'fb_data\\\\messages\\\\inbox\\\\anseungyong_wissislo-q\\\\message_1.json'\n\ngimsiu_dl8zygf0tg\n[Errno 2] No such file or directory: 'fb_data\\\\messages\\\\inbox\\\\gimsiu_dl8zygf0tg\\\\message_1.json'\n\ngraceoh_xe0pq10crg\n[Errno 2] No such file or directory: 'fb_data\\\\messages\\\\inbox\\\\graceoh_xe0pq10crg\\\\message_1.json'\n\nijaehyeon_s4ijrhtyra\n[Errno 2] No such file or directory: 'fb_data\\\\messages\\\\inbox\\\\ijaehyeon_s4ijrhtyra\\\\message_1.json'\n\nwonu_chh2mdbpmq\n[Errno 2] No such file or directory: 'fb_data\\\\messages\\\\inbox\\\\wonu_chh2mdbpmq\\\\message_1.json'\n\njangsiyeol_dtz5l-nytg\n[Errno 2] No such file or directory: 'fb_data\\\\messages\\\\inbox\\\\jangsiyeol_dtz5l-nytg\\\\message_1.json'\n\ncarlosren_7iukinvv9g\n[Errno 2] No such file or directory: 'fb_data\\\\messages\\\\inbox\\\\carlosren_7iukinvv9g\\\\message_1.json'\n\nmunjaol_c0lasfnwaw\n[Errno 2] No such file or directory: 'fb_data\\\\messages\\\\inbox\\\\munjaol_c0lasfnwaw\\\\message_1.json'\n\nfacebookuser_kez356kmxq\n[Errno 2] No such file or directory: 'fb_data\\\\messages\\\\inbox\\\\facebookuser_kez356kmxq\\\\message_1.json'\n\ngimminjin_yee_oql5xg\n[Errno 2] No such file or directory: 'fb_data\\\\messages\\\\inbox\\\\gimminjin_yee_oql5xg\\\\message_1.json'\n\nchanheehong_o6xeqtlvla\n[Errno 2] No such file or directory: 'fb_data\\\\messages\\\\inbox\\\\chanheehong_o6xeqtlvla\\\\message_1.json'\n\nxiaolinchunxiang_fmhrt4fn3q\n[Errno 2] No such file or directory: 'fb_data\\\\messages\\\\inbox\\\\xiaolinchunxiang_fmhrt4fn3q\\\\message_1.json'\n\njangseoyeon_6jgnom3hga\n[Errno 2] No such file or directory: 'fb_data\\\\messages\\\\inbox\\\\jangseoyeon_6jgnom3hga\\\\message_1.json'\n\njunhyeonyoo_0rlitjvpwg\n[Errno 2] No such file or directory: 'fb_data\\\\messages\\\\inbox\\\\junhyeonyoo_0rlitjvpwg\\\\message_1.json'\n\nfacebookuser_6fyryvjvjg\n[Errno 2] No such file or directory: 'fb_data\\\\messages\\\\inbox\\\\facebookuser_6fyryvjvjg\\\\message_1.json'\n\ndavidmingyusung_knlxckjfrg\n[Errno 2] No such file or directory: 'fb_data\\\\messages\\\\inbox\\\\davidmingyusung_knlxckjfrg\\\\message_1.json'\n\nfacebookuser_uwp5oru06w\n[Errno 2] No such file or directory: 'fb_data\\\\messages\\\\inbox\\\\facebookuser_uwp5oru06w\\\\message_1.json'\n\nseoyun_is1sbkeila\n[Errno 2] No such file or directory: 'fb_data\\\\messages\\\\inbox\\\\seoyun_is1sbkeila\\\\message_1.json'\n\niseungyeong_hsaylr8rga\n[Errno 2] No such file or directory: 'fb_data\\\\messages\\\\inbox\\\\iseungyeong_hsaylr8rga\\\\message_1.json'\n\ndabilee_20xcslp4-g\n[Errno 2] No such file or directory: 'fb_data\\\\messages\\\\inbox\\\\dabilee_20xcslp4-g\\\\message_1.json'\n\nyoonhyunsoo_hm0zaf3adg\n[Errno 2] No such file or directory: 'fb_data\\\\messages\\\\inbox\\\\yoonhyunsoo_hm0zaf3adg\\\\message_1.json'\n\nhyunjicho_gnohuyfspw\n[Errno 2] No such file or directory: 'fb_data\\\\messages\\\\inbox\\\\hyunjicho_gnohuyfspw\\\\message_1.json'\n\nkikicateris_o4hcjig0jq\n[Errno 2] No such file or directory: 'fb_data\\\\messages\\\\inbox\\\\kikicateris_o4hcjig0jq\\\\message_1.json'\n\nyeonghwadan_dvp4gt6elg\n[Errno 2] No such file or directory: 'fb_data\\\\messages\\\\inbox\\\\yeonghwadan_dvp4gt6elg\\\\message_1.json'\n\nyuhyeonjin_k4_g9ihiha\n[Errno 2] No such file or directory: 'fb_data\\\\messages\\\\inbox\\\\yuhyeonjin_k4_g9ihiha\\\\message_1.json'\n\njennilindenjohnsonandmegan_3jozv_xziw\n[Errno 2] No such file or directory: 'fb_data\\\\messages\\\\inbox\\\\jennilindenjohnsonandmegan_3jozv_xziw\\\\message_1.json'\n\njennyoranjian_b0lgtprzua\n[Errno 2] No such file or directory: 'fb_data\\\\messages\\\\inbox\\\\jennyoranjian_b0lgtprzua\\\\message_1.json'\n\nsophiayun_yniowsrfdw\n[Errno 2] No such file or directory: 'fb_data\\\\messages\\\\inbox\\\\sophiayun_yniowsrfdw\\\\message_1.json'\n\nkoidessertbardining_0etlinjgqa\n[Errno 2] No such file or directory: 'fb_data\\\\messages\\\\inbox\\\\koidessertbardining_0etlinjgqa\\\\message_1.json'\n\naaronchang_1rwuf-ar9w\n[Errno 2] No such file or directory: 'fb_data\\\\messages\\\\inbox\\\\aaronchang_1rwuf-ar9w\\\\message_1.json'\n\nfacebookuser_zdtfyskesg\n[Errno 2] No such file or directory: 'fb_data\\\\messages\\\\inbox\\\\facebookuser_zdtfyskesg\\\\message_1.json'\n\nsallykim_tsqv3bohrq\n[Errno 2] No such file or directory: 'fb_data\\\\messages\\\\inbox\\\\sallykim_tsqv3bohrq\\\\message_1.json'\n\n7mkbcvr1lw\n[Errno 2] No such file or directory: 'fb_data\\\\messages\\\\inbox\\\\7mkbcvr1lw\\\\message_1.json'\n\njameslee_g-xtv6w1dq\n[Errno 2] No such file or directory: 'fb_data\\\\messages\\\\inbox\\\\jameslee_g-xtv6w1dq\\\\message_1.json'\n\ngimjeonga_s0ejwo9ihq\n[Errno 2] No such file or directory: 'fb_data\\\\messages\\\\inbox\\\\gimjeonga_s0ejwo9ihq\\\\message_1.json'\n\ngimsiu_yaz_qbj8mg\n[Errno 2] No such file or directory: 'fb_data\\\\messages\\\\inbox\\\\gimsiu_yaz_qbj8mg\\\\message_1.json'\n\nidaeun_yd8yuxflug\n[Errno 2] No such file or directory: 'fb_data\\\\messages\\\\inbox\\\\idaeun_yd8yuxflug\\\\message_1.json'\n\njoyeongchae_qhnp7g09kq\n[Errno 2] No such file or directory: 'fb_data\\\\messages\\\\inbox\\\\joyeongchae_qhnp7g09kq\\\\message_1.json'\n\nkimsungmin_wvbypb5ing\n[Errno 2] No such file or directory: 'fb_data\\\\messages\\\\inbox\\\\kimsungmin_wvbypb5ing\\\\message_1.json'\n\ndanielsu_p-1lmy2wbq\n[Errno 2] No such file or directory: 'fb_data\\\\messages\\\\inbox\\\\danielsu_p-1lmy2wbq\\\\message_1.json'\n\nchoejiyun_p9mohyau5a\n[Errno 2] No such file or directory: 'fb_data\\\\messages\\\\inbox\\\\choejiyun_p9mohyau5a\\\\message_1.json'\n\nfacebookuser_lyrcjfbpza\n[Errno 2] No such file or directory: 'fb_data\\\\messages\\\\inbox\\\\facebookuser_lyrcjfbpza\\\\message_1.json'\n"
     ]
    }
   ],
   "source": [
    "convo_df_list = []\n",
    "for name in conversations:\n",
    "    try:\n",
    "        print(f\"\\n{name}\")\n",
    "        message_file =f\"fb_data\\messages\\inbox\\{name}\\message_1.json\" # TODO: check to see if there are more files than this, probably are over longer periods.\n",
    "        with open(message_file) as fb_data:\n",
    "            messages = json.load(fb_data)\n",
    "        participants = messages[\"participants\"]\n",
    "        if len(participants)>1:\n",
    "            print(f\"conversation between {participants[0]['name']} and {participants[1]['name']}\")\n",
    "        message_list = messages['messages']\n",
    "        print(f\"in this period there were {len(message_list)} messages.\")\n",
    "        unsent = [m for m in message_list if m[\"is_unsent\"]]\n",
    "        print(f\"{len(unsent)} messages were unsent\")\n",
    "        df = pd.DataFrame(message_list)\n",
    "        df[\"source_convo\"] = name\n",
    "        df[\"datetime\"] = df.timestamp_ms.apply(lambda x: datetime.datetime.fromtimestamp(x/1000.0))\n",
    "        convo_df_list.append(df)\n",
    "\n",
    "        words = {}\n",
    "        for name, data in df.groupby(\"sender_name\"):\n",
    "            words[name] = data.content.str.cat(sep=\" \")\n",
    "            wordcount = len(words[name].split(\" \"))\n",
    "            print(f\"{name} wrote {wordcount} words ({len(words[name])} characters)\")\n",
    "    except Exception as e:\n",
    "        print(e)"
   ]
  },
  {
   "cell_type": "code",
   "execution_count": 17,
   "metadata": {},
   "outputs": [
    {
     "output_type": "error",
     "ename": "ValueError",
     "evalue": "No objects to concatenate",
     "traceback": [
      "\u001b[0;31m---------------------------------------------------------------------------\u001b[0m",
      "\u001b[0;31mValueError\u001b[0m                                Traceback (most recent call last)",
      "\u001b[0;32m<ipython-input-17-0e21d3cc4c24>\u001b[0m in \u001b[0;36m<module>\u001b[0;34m\u001b[0m\n\u001b[0;32m----> 1\u001b[0;31m \u001b[0mall_convo_df\u001b[0m \u001b[0;34m=\u001b[0m \u001b[0mpd\u001b[0m\u001b[0;34m.\u001b[0m\u001b[0mconcat\u001b[0m\u001b[0;34m(\u001b[0m\u001b[0mconvo_df_list\u001b[0m\u001b[0;34m)\u001b[0m\u001b[0;34m\u001b[0m\u001b[0;34m\u001b[0m\u001b[0m\n\u001b[0m\u001b[1;32m      2\u001b[0m \u001b[0mall_convo_df\u001b[0m\u001b[0;34m.\u001b[0m\u001b[0msample\u001b[0m\u001b[0;34m(\u001b[0m\u001b[0;36m10\u001b[0m\u001b[0;34m)\u001b[0m\u001b[0;34m\u001b[0m\u001b[0;34m\u001b[0m\u001b[0m\n",
      "\u001b[0;32m~/opt/anaconda3/lib/python3.8/site-packages/pandas/core/reshape/concat.py\u001b[0m in \u001b[0;36mconcat\u001b[0;34m(objs, axis, join, ignore_index, keys, levels, names, verify_integrity, sort, copy)\u001b[0m\n\u001b[1;32m    283\u001b[0m     \u001b[0mValueError\u001b[0m\u001b[0;34m:\u001b[0m \u001b[0mIndexes\u001b[0m \u001b[0mhave\u001b[0m \u001b[0moverlapping\u001b[0m \u001b[0mvalues\u001b[0m\u001b[0;34m:\u001b[0m \u001b[0;34m[\u001b[0m\u001b[0;34m'a'\u001b[0m\u001b[0;34m]\u001b[0m\u001b[0;34m\u001b[0m\u001b[0;34m\u001b[0m\u001b[0m\n\u001b[1;32m    284\u001b[0m     \"\"\"\n\u001b[0;32m--> 285\u001b[0;31m     op = _Concatenator(\n\u001b[0m\u001b[1;32m    286\u001b[0m         \u001b[0mobjs\u001b[0m\u001b[0;34m,\u001b[0m\u001b[0;34m\u001b[0m\u001b[0;34m\u001b[0m\u001b[0m\n\u001b[1;32m    287\u001b[0m         \u001b[0maxis\u001b[0m\u001b[0;34m=\u001b[0m\u001b[0maxis\u001b[0m\u001b[0;34m,\u001b[0m\u001b[0;34m\u001b[0m\u001b[0;34m\u001b[0m\u001b[0m\n",
      "\u001b[0;32m~/opt/anaconda3/lib/python3.8/site-packages/pandas/core/reshape/concat.py\u001b[0m in \u001b[0;36m__init__\u001b[0;34m(self, objs, axis, join, keys, levels, names, ignore_index, verify_integrity, copy, sort)\u001b[0m\n\u001b[1;32m    340\u001b[0m \u001b[0;34m\u001b[0m\u001b[0m\n\u001b[1;32m    341\u001b[0m         \u001b[0;32mif\u001b[0m \u001b[0mlen\u001b[0m\u001b[0;34m(\u001b[0m\u001b[0mobjs\u001b[0m\u001b[0;34m)\u001b[0m \u001b[0;34m==\u001b[0m \u001b[0;36m0\u001b[0m\u001b[0;34m:\u001b[0m\u001b[0;34m\u001b[0m\u001b[0;34m\u001b[0m\u001b[0m\n\u001b[0;32m--> 342\u001b[0;31m             \u001b[0;32mraise\u001b[0m \u001b[0mValueError\u001b[0m\u001b[0;34m(\u001b[0m\u001b[0;34m\"No objects to concatenate\"\u001b[0m\u001b[0;34m)\u001b[0m\u001b[0;34m\u001b[0m\u001b[0;34m\u001b[0m\u001b[0m\n\u001b[0m\u001b[1;32m    343\u001b[0m \u001b[0;34m\u001b[0m\u001b[0m\n\u001b[1;32m    344\u001b[0m         \u001b[0;32mif\u001b[0m \u001b[0mkeys\u001b[0m \u001b[0;32mis\u001b[0m \u001b[0;32mNone\u001b[0m\u001b[0;34m:\u001b[0m\u001b[0;34m\u001b[0m\u001b[0;34m\u001b[0m\u001b[0m\n",
      "\u001b[0;31mValueError\u001b[0m: No objects to concatenate"
     ]
    }
   ],
   "source": [
    "all_convo_df = pd.concat(convo_df_list)\n",
    "all_convo_df.sample(10)"
   ]
  },
  {
   "cell_type": "code",
   "execution_count": 18,
   "metadata": {},
   "outputs": [
    {
     "output_type": "error",
     "ename": "NameError",
     "evalue": "name 'all_convo_df' is not defined",
     "traceback": [
      "\u001b[0;31m---------------------------------------------------------------------------\u001b[0m",
      "\u001b[0;31mNameError\u001b[0m                                 Traceback (most recent call last)",
      "\u001b[0;32m<ipython-input-18-9e3158bac118>\u001b[0m in \u001b[0;36m<module>\u001b[0;34m\u001b[0m\n\u001b[0;32m----> 1\u001b[0;31m \u001b[0mall_convo_df\u001b[0m\u001b[0;34m.\u001b[0m\u001b[0msender_name\u001b[0m\u001b[0;34m.\u001b[0m\u001b[0mvalue_counts\u001b[0m\u001b[0;34m(\u001b[0m\u001b[0;34m)\u001b[0m\u001b[0;34m.\u001b[0m\u001b[0mplot\u001b[0m\u001b[0;34m.\u001b[0m\u001b[0mbarh\u001b[0m\u001b[0;34m(\u001b[0m\u001b[0mtitle\u001b[0m\u001b[0;34m=\u001b[0m\u001b[0;34m\"Number of messages sent\"\u001b[0m\u001b[0;34m,\u001b[0m \u001b[0mxlim\u001b[0m\u001b[0;34m=\u001b[0m\u001b[0;34m(\u001b[0m\u001b[0;36m0\u001b[0m\u001b[0;34m,\u001b[0m\u001b[0;36m2000\u001b[0m\u001b[0;34m)\u001b[0m\u001b[0;34m)\u001b[0m\u001b[0;34m\u001b[0m\u001b[0;34m\u001b[0m\u001b[0m\n\u001b[0m",
      "\u001b[0;31mNameError\u001b[0m: name 'all_convo_df' is not defined"
     ]
    }
   ],
   "source": [
    "all_convo_df.sender_name.value_counts().plot.barh(title=\"Number of messages sent\", xlim=(0,2000))"
   ]
  },
  {
   "cell_type": "markdown",
   "metadata": {},
   "source": [
    "# Plotting time that might show sleep\r\n",
    "\r\n",
    "This is a bit nasty, I don't really like it, but it seems to work. There _must_ be a better way.\r\n",
    "\r\n",
    "Convert the time component of the datetime to just-date and just-time (but in seconds, as a number) and then plot that.\r\n",
    "\r\n",
    "The y axis is nasty becasue it doesn't show "
   ]
  },
  {
   "cell_type": "code",
   "execution_count": null,
   "metadata": {},
   "outputs": [],
   "source": [
    "def time_to_seconds(dt):\r\n",
    "    t = dt.time()\r\n",
    "    seconds = (t.hour * 60 + t.minute) * 60 + t.second\r\n",
    "    return seconds\r\n",
    "all_convo_df[\"date\"] = all_convo_df.datetime.apply(lambda x: x.date())\r\n",
    "all_convo_df[\"seconds\"] = all_convo_df.datetime.apply(time_to_seconds)\r\n",
    "all_convo_df.sample(5)"
   ]
  },
  {
   "cell_type": "code",
   "execution_count": null,
   "metadata": {},
   "outputs": [],
   "source": [
    "fig = plt.figure()\r\n",
    "ax = fig.add_subplot(111)\r\n",
    "ax.scatter(all_convo_df.date, all_convo_df.seconds, s=300, alpha=0.04)\r\n",
    "ax.yaxis_date()\r\n",
    "fig.autofmt_xdate()\r\n",
    "\r\n",
    "plt.show()"
   ]
  },
  {
   "cell_type": "markdown",
   "metadata": {},
   "source": [
    "So, this makes sense to me, but it's a bit gross. The y axis is all messed up, it should be showing time, not number of seconds. I'm also not sure if time goes forward up or down the page.\r\n",
    "\r\n",
    "It'd be good to work out a way of identifying sleep periods. Maybe that's a period that starts after 10pm that's offline for more than 4 hours?"
   ]
  }
 ],
 "metadata": {
  "interpreter": {
   "hash": "0bc9a1eeff4ba10b0800c01e5b0b872b265b92561193d5706117af22821f4cc2"
  },
  "kernelspec": {
   "name": "python388jvsc74a57bd036653f057569025518d43dc400cdaa307464b9429459565e7d0a1bd7b17a5f66",
   "display_name": "Python 3.8.8 64-bit ('base': conda)"
  },
  "language_info": {
   "codemirror_mode": {
    "name": "ipython",
    "version": 3
   },
   "file_extension": ".py",
   "mimetype": "text/x-python",
   "name": "python",
   "nbconvert_exporter": "python",
   "pygments_lexer": "ipython3",
   "version": "3.8.8"
  },
  "orig_nbformat": 4
 },
 "nbformat": 4,
 "nbformat_minor": 2
}